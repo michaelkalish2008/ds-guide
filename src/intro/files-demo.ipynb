{
 "cells": [
  {
   "cell_type": "markdown",
   "id": "4435e9d9",
   "metadata": {},
   "source": [
    "# File Type Demo"
   ]
  },
  {
   "cell_type": "markdown",
   "id": "5c5f5965",
   "metadata": {},
   "source": [
    "In data science, there a ton of different file types to learn. In this demo, we'll cover some of the more popular types."
   ]
  },
  {
   "cell_type": "markdown",
   "id": "685559e0",
   "metadata": {},
   "source": [
    "# Setup"
   ]
  },
  {
   "cell_type": "code",
   "execution_count": null,
   "id": "6e839cd1",
   "metadata": {},
   "outputs": [],
   "source": [
    "# Import packages\n",
    "import pandas as pd\n",
    "import seaborn as sns\n"
   ]
  },
  {
   "cell_type": "code",
   "execution_count": null,
   "id": "716c9e85",
   "metadata": {},
   "outputs": [],
   "source": [
    "# Get the cars dataset\n",
    "cars = sns.load_dataset('mpg')"
   ]
  },
  {
   "cell_type": "markdown",
   "id": "0d3a788a",
   "metadata": {},
   "source": [
    "# Data"
   ]
  },
  {
   "cell_type": "code",
   "execution_count": 41,
   "id": "5fe7ab6b",
   "metadata": {},
   "outputs": [
    {
     "data": {
      "text/html": [
       "<div>\n",
       "<style scoped>\n",
       "    .dataframe tbody tr th:only-of-type {\n",
       "        vertical-align: middle;\n",
       "    }\n",
       "\n",
       "    .dataframe tbody tr th {\n",
       "        vertical-align: top;\n",
       "    }\n",
       "\n",
       "    .dataframe thead th {\n",
       "        text-align: right;\n",
       "    }\n",
       "</style>\n",
       "<table border=\"1\" class=\"dataframe\">\n",
       "  <thead>\n",
       "    <tr style=\"text-align: right;\">\n",
       "      <th></th>\n",
       "      <th>mpg</th>\n",
       "      <th>cylinders</th>\n",
       "      <th>displacement</th>\n",
       "      <th>horsepower</th>\n",
       "      <th>weight</th>\n",
       "      <th>acceleration</th>\n",
       "      <th>model_year</th>\n",
       "      <th>origin</th>\n",
       "      <th>name</th>\n",
       "    </tr>\n",
       "  </thead>\n",
       "  <tbody>\n",
       "    <tr>\n",
       "      <th>0</th>\n",
       "      <td>18.0</td>\n",
       "      <td>8</td>\n",
       "      <td>307.0</td>\n",
       "      <td>130.0</td>\n",
       "      <td>3504</td>\n",
       "      <td>12.0</td>\n",
       "      <td>70</td>\n",
       "      <td>usa</td>\n",
       "      <td>chevrolet chevelle malibu</td>\n",
       "    </tr>\n",
       "    <tr>\n",
       "      <th>1</th>\n",
       "      <td>15.0</td>\n",
       "      <td>8</td>\n",
       "      <td>350.0</td>\n",
       "      <td>165.0</td>\n",
       "      <td>3693</td>\n",
       "      <td>11.5</td>\n",
       "      <td>70</td>\n",
       "      <td>usa</td>\n",
       "      <td>buick skylark 320</td>\n",
       "    </tr>\n",
       "    <tr>\n",
       "      <th>2</th>\n",
       "      <td>18.0</td>\n",
       "      <td>8</td>\n",
       "      <td>318.0</td>\n",
       "      <td>150.0</td>\n",
       "      <td>3436</td>\n",
       "      <td>11.0</td>\n",
       "      <td>70</td>\n",
       "      <td>usa</td>\n",
       "      <td>plymouth satellite</td>\n",
       "    </tr>\n",
       "    <tr>\n",
       "      <th>3</th>\n",
       "      <td>16.0</td>\n",
       "      <td>8</td>\n",
       "      <td>304.0</td>\n",
       "      <td>150.0</td>\n",
       "      <td>3433</td>\n",
       "      <td>12.0</td>\n",
       "      <td>70</td>\n",
       "      <td>usa</td>\n",
       "      <td>amc rebel sst</td>\n",
       "    </tr>\n",
       "    <tr>\n",
       "      <th>4</th>\n",
       "      <td>17.0</td>\n",
       "      <td>8</td>\n",
       "      <td>302.0</td>\n",
       "      <td>140.0</td>\n",
       "      <td>3449</td>\n",
       "      <td>10.5</td>\n",
       "      <td>70</td>\n",
       "      <td>usa</td>\n",
       "      <td>ford torino</td>\n",
       "    </tr>\n",
       "  </tbody>\n",
       "</table>\n",
       "</div>"
      ],
      "text/plain": [
       "    mpg  cylinders  displacement  horsepower  weight  acceleration  \\\n",
       "0  18.0          8         307.0       130.0    3504          12.0   \n",
       "1  15.0          8         350.0       165.0    3693          11.5   \n",
       "2  18.0          8         318.0       150.0    3436          11.0   \n",
       "3  16.0          8         304.0       150.0    3433          12.0   \n",
       "4  17.0          8         302.0       140.0    3449          10.5   \n",
       "\n",
       "   model_year origin                       name  \n",
       "0          70    usa  chevrolet chevelle malibu  \n",
       "1          70    usa          buick skylark 320  \n",
       "2          70    usa         plymouth satellite  \n",
       "3          70    usa              amc rebel sst  \n",
       "4          70    usa                ford torino  "
      ]
     },
     "execution_count": 41,
     "metadata": {},
     "output_type": "execute_result"
    }
   ],
   "source": [
    "cars.head()"
   ]
  },
  {
   "cell_type": "markdown",
   "id": "bd88b6eb",
   "metadata": {},
   "source": [
    "# File Types"
   ]
  },
  {
   "cell_type": "markdown",
   "id": "dc15ca46",
   "metadata": {},
   "source": [
    "### Save data"
   ]
  },
  {
   "cell_type": "code",
   "execution_count": null,
   "id": "33065eb9",
   "metadata": {},
   "outputs": [],
   "source": [
    "# Save to...\n",
    "cars.to_csv('./data/cars.csv')\n",
    "cars.to_json('./data/cars.json')\n",
    "cars.to_parquet('./data/cars.parquet')\n",
    "cars.to_pickle('./data/cars.pkl')\n",
    "cars.to_html('./data/cars.html')\n",
    "cars.to_markdown('./data/cars.md')\n",
    "cars.to_latex('./data/cars.tex')\n",
    "cars.to_string('./data/cars.txt')\n",
    "cars.to_clipboard('./data/cars.txt')"
   ]
  },
  {
   "cell_type": "markdown",
   "id": "a063af89",
   "metadata": {},
   "source": [
    "### txt\n",
    "\n",
    "**Set the fpath/fnames**: \n",
    "Here we'll use txt files as system/user instructions for a GenAI project. First, let's set the fpaths.\n",
    "Fpath is a shorthand reference to the file path, just like fname is shorthand for file name. \n",
    "Because the fpath is the same for all files, we'll just add it to (with '+') to the fnames."
   ]
  },
  {
   "cell_type": "code",
   "execution_count": null,
   "id": "7cae2636",
   "metadata": {},
   "outputs": [],
   "source": [
    "# Note: In this case (\"./\" means the current directory, which is where the file is located)\n",
    "file_fpath = './data/'\n",
    "\n",
    "system_fname = 'system.txt' \n",
    "user_fname = 'user.txt'\n",
    "\n",
    "system_fpath = file_fpath + system_fname\n",
    "user_fpath = file_fpath + user_fname"
   ]
  },
  {
   "cell_type": "markdown",
   "id": "7a382f4a",
   "metadata": {},
   "source": [
    "**Read the files**: With \"Open as file\", we give the fpath with the read-only parameter 'r', and assign it to the variable \"file\" .\n",
    "We then read the file and assign it to the variable \"txt_content\". This is a round-about way, but its a common pattern."
   ]
  },
  {
   "cell_type": "code",
   "execution_count": 16,
   "id": "fc9ce19e",
   "metadata": {},
   "outputs": [
    {
     "name": "stdout",
     "output_type": "stream",
     "text": [
      "System Instructions: \"You are an assistant to help me choose the stinkiest cheese.\"\n",
      "User Instructions: \"Here the available cheeses\": ['Roquefort', 'Stilton', 'Cheddar', 'Brie', 'Camembert']\n"
     ]
    }
   ],
   "source": [
    "\n",
    "with open(system_fpath, 'r') as file:\n",
    "    system_instructions = file.read()\n",
    "\n",
    "with open(user_fpath, 'r') as file:\n",
    "    user_instructions = file.read()\n",
    "\n",
    "# List of stinky cheeses\n",
    "stinky_cheeses = [\n",
    "    \"Roquefort\",\n",
    "    \"Stilton\",\n",
    "    \"Cheddar\",\n",
    "    \"Brie\",\n",
    "    \"Camembert\",\n",
    "]\n",
    "\n",
    "# By adding f in front of the string, we can use python's f-string formatting to insert the value of txt_content into the string.\n",
    "print('System Instructions:', system_instructions)\n",
    "print(f'User Instructions: {user_instructions}: {stinky_cheeses}')\n",
    "\n",
    "# Now we can use the system and user instructions to generate a response. Thanks txt files."
   ]
  },
  {
   "cell_type": "code",
   "execution_count": null,
   "id": "80509787",
   "metadata": {},
   "outputs": [],
   "source": []
  }
 ],
 "metadata": {
  "kernelspec": {
   "display_name": "venv",
   "language": "python",
   "name": "python3"
  },
  "language_info": {
   "codemirror_mode": {
    "name": "ipython",
    "version": 3
   },
   "file_extension": ".py",
   "mimetype": "text/x-python",
   "name": "python",
   "nbconvert_exporter": "python",
   "pygments_lexer": "ipython3",
   "version": "3.13.5"
  }
 },
 "nbformat": 4,
 "nbformat_minor": 5
}
